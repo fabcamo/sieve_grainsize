{
 "cells": [
  {
   "cell_type": "markdown",
   "id": "43397419-07d7-4c40-9e69-78a0aac9cefe",
   "metadata": {},
   "source": [
    "<img src=\"https://user-images.githubusercontent.com/7065401/55025843-7d99a280-4fe0-11e9-938a-4879d95c4130.png\"\n",
    "    style=\"width:150px; float: right; margin: 0 40px 40px 40px;\"></img>\n",
    "\n",
    "# Grain-size sieve test\n",
    "\n",
    "![green-divider](https://user-images.githubusercontent.com/7065401/52071924-c003ad80-2562-11e9-8297-1c6595f8a7ff.png)\n",
    "\n",
    "## Overview\n",
    "This is a huge if/else code to automate the **ASTM D2487** for USCS soil classification.<br>\n",
    "Standard Practice for Classification of Soils for Engineering Purposes.<br>\n",
    "There are 3 mayor soil division: coarse-grained soils, fine-grained soils and highly organic Soils.<br>\n",
    "You will need to input> Atterberg limits and gravel, sand and fines.\n"
   ]
  },
  {
   "cell_type": "markdown",
   "id": "ac547693-440b-403a-b6a2-b314596be39b",
   "metadata": {},
   "source": [
    "### 1. Input the required data\n",
    "Here we define the entry variables for all the other processes."
   ]
  },
  {
   "cell_type": "code",
   "execution_count": 1,
   "id": "3335c32b-34c7-4983-a6d3-1183a8aa5eec",
   "metadata": {
    "tags": []
   },
   "outputs": [
    {
     "name": "stdout",
     "output_type": "stream",
     "text": [
      "\n",
      "Liquid Limit\n"
     ]
    },
    {
     "name": "stdin",
     "output_type": "stream",
     "text": [
      " 40\n"
     ]
    },
    {
     "name": "stdout",
     "output_type": "stream",
     "text": [
      "Plastic Limit\n"
     ]
    },
    {
     "name": "stdin",
     "output_type": "stream",
     "text": [
      " 30\n"
     ]
    },
    {
     "name": "stdout",
     "output_type": "stream",
     "text": [
      "Gravel %\n"
     ]
    },
    {
     "name": "stdin",
     "output_type": "stream",
     "text": [
      " 15\n"
     ]
    },
    {
     "name": "stdout",
     "output_type": "stream",
     "text": [
      "Sand %\n"
     ]
    },
    {
     "name": "stdin",
     "output_type": "stream",
     "text": [
      " 29\n"
     ]
    }
   ],
   "source": [
    "print('\\nLiquid Limit')\n",
    "lL = float(input())\n",
    "print('Plastic Limit')\n",
    "pL = float(input())\n",
    "print('Gravel %')\n",
    "gravel = float(input())\n",
    "print('Sand %')\n",
    "sand = float(input())"
   ]
  },
  {
   "cell_type": "markdown",
   "id": "d2878940-cba6-49ff-a4e6-726c39e21f3f",
   "metadata": {
    "tags": []
   },
   "source": [
    "### 2. Is the soil organic?\n",
    "Here we ask the user to define is the soil ir organic by input of true or false. There is a conditioner that, if they type anything else, it will print 'Error'"
   ]
  },
  {
   "cell_type": "code",
   "execution_count": 2,
   "id": "36a1ad13-9cab-4c1b-b2b2-83980783dd02",
   "metadata": {},
   "outputs": [
    {
     "name": "stdout",
     "output_type": "stream",
     "text": [
      "\n",
      "Is the soil organic?\n"
     ]
    },
    {
     "name": "stdin",
     "output_type": "stream",
     "text": [
      "Input True or False:  false\n"
     ]
    }
   ],
   "source": [
    "print('\\nIs the soil organic?')\n",
    "isOrganic = input('Input True or False: ').lower().strip()\n",
    "if isOrganic == 'true':\n",
    "    boolValue = True\n",
    "elif isOrganic == 'false':\n",
    "    boolValue = False\n",
    "else:\n",
    "    print('Error: Input must be True or False, run again')"
   ]
  },
  {
   "cell_type": "markdown",
   "id": "d5989e08-8a50-43d1-a92e-3fde78b497b3",
   "metadata": {},
   "source": [
    "### 2. Here is the if/else chain\n",
    "At the end you get the soil type"
   ]
  },
  {
   "cell_type": "code",
   "execution_count": 3,
   "id": "f98af64c-3104-4f98-bf1d-b26f61996e58",
   "metadata": {
    "tags": []
   },
   "outputs": [
    {
     "name": "stdout",
     "output_type": "stream",
     "text": [
      "\n",
      "Group symbol: ML\n",
      "Sandy silt with gravel\n"
     ]
    }
   ],
   "source": [
    "iP = lL - pL  # plasticity index\n",
    "ret200 = gravel + sand\n",
    "fines = 100 - ret200\n",
    "\n",
    "# FOR SOILS WITH LL > 50\n",
    "if lL < 50:\n",
    "    if isOrganic == True:  # if there ir organic matter, enter this if nest\n",
    "        print('\\nGroup symbol: OL')\n",
    "        if iP >= 4 and iP >= (0.73*(lL-20)):\n",
    "            if ret200 < 30:\n",
    "                if ret200 < 15:\n",
    "                    print('Organic clay')\n",
    "                elif ret200 >= 15:\n",
    "                    if sand >= gravel:\n",
    "                        print('Organic clay with sand')\n",
    "                    elif sand < gravel:\n",
    "                        print('Organic clay with gravel')\n",
    "            elif ret200 >= 30:\n",
    "                if sand >= gravel:\n",
    "                    if gravel < 15:\n",
    "                        print('Sandy organic clay')\n",
    "                    elif gravel >= 15:\n",
    "                        print('Sandy organic clay with gravel')\n",
    "                elif sand < gravel:\n",
    "                    if sand < 15:\n",
    "                        print('Gravelly organic clay')\n",
    "                    elif sand >= 15:\n",
    "                        print('Gravelly organic clay with sand')\n",
    "        if iP < 4 and iP < (0.73*(lL-20)):\n",
    "            if ret200 < 30:\n",
    "                if ret200 < 15:\n",
    "                    print('Organic silt')\n",
    "                elif ret200 >= 15:\n",
    "                    if sand >= gravel:\n",
    "                        print('Organic silt with sand')\n",
    "                    elif sand < gravel:\n",
    "                        print('Organic silt with gravel')\n",
    "            elif ret200 >= 30:\n",
    "                if sand >= gravel:\n",
    "                    if gravel < 15:\n",
    "                        print('Sandy organic silt')\n",
    "                    elif gravel >= 15:\n",
    "                        print('Sandy organic silt with gravel')\n",
    "                elif sand < gravel:\n",
    "                    if sand < 15:\n",
    "                        print('Gravelly organic silt')\n",
    "                    elif sand >= 15:\n",
    "                        print('Gravelly organic silt with sand')\n",
    "    else:  # if there is NO organic matter, enter this if nest\n",
    "        if (lL < 25.5 and iP > 7) or (lL >= 25.5 and iP > 7 and iP >= (0.73*(lL-20))):\n",
    "            print('\\nGroup symbol: CL')\n",
    "            if ret200 < 30:\n",
    "                if ret200 < 15:\n",
    "                    print('Lean clay')\n",
    "                elif ret200 >= 15:\n",
    "                    if sand >= gravel:\n",
    "                        print('Lean clay with sand')\n",
    "                    elif sand < gravel:\n",
    "                        print('Lean clay with gravel')\n",
    "            elif ret200 >= 30:\n",
    "                if sand >= gravel:\n",
    "                    if gravel < 15:\n",
    "                        print('Sandy lean clay')\n",
    "                    elif gravel >= 15:\n",
    "                        print('Sandy lean clay with gravel')\n",
    "                elif sand < gravel:\n",
    "                    if sand < 15:\n",
    "                        print('Gravelly lean clay')\n",
    "                    elif sand >= 15:\n",
    "                        print('Gravelly lean clay with sand')\n",
    "        elif (lL < 25.5 and iP >= 4) or (lL >= 25.5 and iP >= (0.73*(lL-20))):\n",
    "            print('\\nGroup symbol: CL-ML')\n",
    "            if ret200 < 30:\n",
    "                if ret200 < 15:\n",
    "                    print('Silty clay')\n",
    "                elif ret200 >= 15:\n",
    "                    if sand >= gravel:\n",
    "                        print('Silty clay with sand')\n",
    "                    elif sand < gravel:\n",
    "                        print('Silty clay with gravel')\n",
    "            elif ret200 >= 30:\n",
    "                if sand >= gravel:\n",
    "                    if gravel < 15:\n",
    "                        print('Sandy silty clay')\n",
    "                    elif gravel >= 15:\n",
    "                        print('Sandy silty clay with gravel')\n",
    "                elif sand < gravel:\n",
    "                    if sand < 15:\n",
    "                        print('Gravelly silty clay')\n",
    "                    elif sand >= 15:\n",
    "                        print('Gravelly silty clay with sand')\n",
    "        elif (lL < 25.5 and iP < 4) or (lL >= 25.5 and iP < (0.73*(lL-20))):\n",
    "            print('\\nGroup symbol: ML')\n",
    "            if ret200 < 30:\n",
    "                if ret200 < 15:\n",
    "                    print('Silt')\n",
    "                elif ret200 >= 15:\n",
    "                    if sand >= gravel:\n",
    "                        print('Silt with sand')\n",
    "                    elif sand < gravel:\n",
    "                        print('Silt with gravel')\n",
    "            elif ret200 >= 30:\n",
    "                if sand >= gravel:\n",
    "                    if gravel < 15:\n",
    "                        print('Sandy silt')\n",
    "                    elif gravel >= 15:\n",
    "                        print('Sandy silt with gravel')\n",
    "                elif sand < gravel:\n",
    "                    if sand < 15:\n",
    "                        print('Gravelly silt')\n",
    "                    elif sand >= 15:\n",
    "                        print('Gravelly silt with sand')\n",
    "\n",
    "# FOR SOILS WITH LL <= 50\n",
    "elif lL >= 50:\n",
    "    if isOrganic == True:  # if there ir organic matter, enter this if nest\n",
    "        print('\\nGroup symbol: OH')\n",
    "        if iP >= 4 and iP >= (0.73*(lL-20)):\n",
    "            if ret200 < 30:\n",
    "                if ret200 < 15:\n",
    "                    print('Organic clay')\n",
    "                elif ret200 >= 15:\n",
    "                    if sand >= gravel:\n",
    "                        print('Organic clay with sand')\n",
    "                    elif sand < gravel:\n",
    "                        print('Organic clay with gravel')\n",
    "            elif ret200 >= 30:\n",
    "                if sand >= gravel:\n",
    "                    if gravel < 15:\n",
    "                        print('Sandy organic clay')\n",
    "                    elif gravel >= 15:\n",
    "                        print('Sandy organic clay with gravel')\n",
    "                elif sand < gravel:\n",
    "                    if sand < 15:\n",
    "                        print('Gravelly organic clay')\n",
    "                    elif sand >= 15:\n",
    "                        print('Gravelly organic clay with sand')\n",
    "        if iP < 4 and iP < (0.73*(lL-20)):\n",
    "            if ret200 < 30:\n",
    "                if ret200 < 15:\n",
    "                    print('Organic silt')\n",
    "                elif ret200 >= 15:\n",
    "                    if sand >= gravel:\n",
    "                        print('Organic silt with sand')\n",
    "                    elif sand < gravel:\n",
    "                        print('Organic silt with gravel')\n",
    "            elif ret200 >= 30:\n",
    "                if sand >= gravel:\n",
    "                    if gravel < 15:\n",
    "                        print('Sandy organic silt')\n",
    "                    elif gravel >= 15:\n",
    "                        print('Sandy organic silt with gravel')\n",
    "                elif sand < gravel:\n",
    "                    if sand < 15:\n",
    "                        print('Gravelly organic silt')\n",
    "                    elif sand >= 15:\n",
    "                        print('Gravelly organic silt with sand')\n",
    "    else:  # if there is NO organic matter, enter this if nest\n",
    "        if iP >= (0.73*(lL-20)):\n",
    "            print('\\nGroup symbol: CH')\n",
    "            if ret200 < 30:\n",
    "                if ret200 < 15:\n",
    "                    print('Fat clay')\n",
    "                elif ret200 >= 15:\n",
    "                    if sand >= gravel:\n",
    "                        print('Fat clay with sand')\n",
    "                    elif sand < gravel:\n",
    "                        print('Fat clay with gravel')\n",
    "            elif ret200 >= 30:\n",
    "                if sand >= gravel:\n",
    "                    if gravel < 15:\n",
    "                        print('Sandy fat clay')\n",
    "                    elif gravel >= 15:\n",
    "                        print('Sandy fat clay with gravel')\n",
    "                elif sand < gravel:\n",
    "                    if sand < 15:\n",
    "                        print('Gravelly fat clay')\n",
    "                    elif sand >= 15:\n",
    "                        print('Gravelly fat clay with sand')\n",
    "        elif iP < (0.73*(lL-20)):\n",
    "            print('\\nGroup symbol: MH')\n",
    "            if ret200 < 30:\n",
    "                if ret200 < 15:\n",
    "                    print('Elastic silt')\n",
    "                elif ret200 >= 15:\n",
    "                    if sand >= gravel:\n",
    "                        print('Elastic silt with sand')\n",
    "                    elif sand < gravel:\n",
    "                        print('Elastic silt with gravel')\n",
    "            elif ret200 >= 30:\n",
    "                if sand >= gravel:\n",
    "                    if gravel < 15:\n",
    "                        print('Sandy elastic silt')\n",
    "                    elif gravel >= 15:\n",
    "                        print('Sandy elastic silt with gravel')\n",
    "                elif sand < gravel:\n",
    "                    if sand < 15:\n",
    "                        print('Gravelly elastic silt')\n",
    "                    elif sand >= 15:\n",
    "                        print('Gravelly elastic silt with sand')\n"
   ]
  }
 ],
 "metadata": {
  "kernelspec": {
   "display_name": "Python 3",
   "language": "python",
   "name": "python3"
  },
  "language_info": {
   "codemirror_mode": {
    "name": "ipython",
    "version": 3
   },
   "file_extension": ".py",
   "mimetype": "text/x-python",
   "name": "python",
   "nbconvert_exporter": "python",
   "pygments_lexer": "ipython3",
   "version": "3.8.8"
  }
 },
 "nbformat": 4,
 "nbformat_minor": 5
}
